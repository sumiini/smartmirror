{
 "cells": [
  {
   "cell_type": "code",
   "execution_count": null,
   "metadata": {},
   "outputs": [],
   "source": []
  },
  {
   "cell_type": "code",
   "execution_count": 2,
   "metadata": {},
   "outputs": [],
   "source": []
  },
  {
   "cell_type": "code",
   "execution_count": 1,
   "metadata": {},
   "outputs": [
    {
     "name": "stdout",
     "output_type": "stream",
     "text": [
      "{'gender': 'female', 'age': 19.0, 'emotion': {'anger': 0.0, 'contempt': 0.001, 'disgust': 0.0, 'fear': 0.0, 'happiness': 0.018, 'neutral': 0.979, 'sadness': 0.002, 'surprise': 0.0}}\n"
     ]
    }
   ],
   "source": []
  },
  {
   "cell_type": "code",
   "execution_count": null,
   "metadata": {},
   "outputs": [],
   "source": []
  },
  {
   "cell_type": "code",
   "execution_count": 3,
   "metadata": {},
   "outputs": [
    {
     "name": "stdout",
     "output_type": "stream",
     "text": [
      "Max !! happiness\n"
     ]
    }
   ],
   "source": [
    "#pip install opencv-python\n",
    "\n",
    "# 거울기능 + 얼굴 캡쳐 후 감정분석 코드\n",
    "import cv2\n",
    "import datetime\n",
    "import os\n",
    "import requests\n",
    "from io import BytesIO\n",
    "from PIL import Image, ImageDraw\n",
    "import cognitive_face as CF\n",
    "import os\n",
    "\n",
    "\n",
    "#노트북 카메라에서 영상을 읽어온다\n",
    "cap = cv2.VideoCapture(0)\n",
    "\n",
    "KEY = \"4416f5e6126b492ca20f2fef2dcb7a05\"\n",
    "CF.Key.set(KEY)\n",
    "\n",
    "BASE_URL = 'https://koreacentral.api.cognitive.microsoft.com/face/v1.0/' # 자신의 지역에 해당하는 URL\n",
    "CF.BaseUrl.set(BASE_URL)\n",
    "\n",
    "\n",
    "\n",
    "cnt=0\n",
    "i=0\n",
    "#얼굴 인식 캐스케이드 파일 읽는다\n",
    "face_cascade = cv2.CascadeClassifier('C:/Users/Hong Sumin/Desktop/data/haarcascades/haarcascade_frontalface_default.xml')\n",
    "#now = datetime.datetime.now().strftime(\"%d_%H-%M-%S\")\n",
    "arr=[1,2,3,4,5]\n",
    "imgArr=[]\n",
    "emoArr=[]\n",
    "emoName=['anger','contempt','disgust','fear','happiness','neutral','sadness','surprise']\n",
    "filePath=\"C:/Users/Hong Sumin/Desktop/4-1/capture\"\n",
    "def removeAllFile(filePath):\n",
    "    if os.path.exists(filePath):\n",
    "        for file in os.scandir(filePath):\n",
    "            os.remove(file.path)\n",
    "        return \"Remove All File\"\n",
    "    else:\n",
    "        return \"Directory Not Found\"\n",
    "removeAllFile(filePath);\n",
    "\n",
    "while(True):\n",
    "    # frame 별로 capture 한다\n",
    "    ret, frame = cap.read()\n",
    "    # 좌우 반전은 1, 상하반전은 0\n",
    "    frame = cv2.flip(frame,1)\n",
    "    # 프레임이 제대로 읽어지지 않은 경우\n",
    "    if not ret:\n",
    "        print(\"Can't receive frame (stream end?). Exiting ...\")\n",
    "        break\n",
    "        \n",
    "    \n",
    "    gray = cv2.cvtColor(frame, cv2.COLOR_BGR2GRAY)\n",
    "    #detectMultiScale (InputArray image, std::vector< Rect > &objects, double scaleFactor=1.1, int minNeighbors=3, int flags=0, Size minSize=Size(), Size maxSize=Size())\n",
    "    faces = face_cascade.detectMultiScale(gray, 1.2, 5)\n",
    "    \n",
    "    # 빨간 사각형으로 인식된 얼굴은 표시한다.\n",
    "    #if len(faces)>0:\n",
    "        #for (x,y,w,h) in faces:\n",
    "            #cv2.rectangle(frame,(x,y),(x+w,y+h),(0,0,255),2)\n",
    "            #i+=1                \n",
    "    if i<6:\n",
    "        cv2.IMREAD_UNCHANGED\n",
    "        cv2.imwrite(\"C:/Users/Hong Sumin/Desktop/4-1/capture/\" + str(i) + \".png\", frame)\n",
    "        #img_url = 'C:/Users/Hong Sumin/Desktop/4-1/capture/1.png' # 이미지 파일의 경로\n",
    "        imgArr.append('C:/Users/Hong Sumin/Desktop/4-1/capture/'+str(i)+'.png')\n",
    "        i+=1\n",
    "        \n",
    "    #print(\"imgArr!!!\",imgArr)\n",
    "    if i==6:\n",
    "        emoArr=[0,0,0,0,0,0,0,0]\n",
    "        for j in imgArr:\n",
    "            faces = CF.face.detect(j,True,False,'age,gender,emotion') # 중요!\n",
    "            for face in faces:\n",
    "                emoArr[0]+=face['faceAttributes']['emotion']['anger'];\n",
    "                emoArr[1]+=face['faceAttributes']['emotion']['contempt'];\n",
    "                emoArr[2]+=face['faceAttributes']['emotion']['disgust'];\n",
    "                emoArr[3]+=face['faceAttributes']['emotion']['fear'];\n",
    "                emoArr[4]+=face['faceAttributes']['emotion']['happiness'];\n",
    "                emoArr[5]+=face['faceAttributes']['emotion']['neutral'];\n",
    "                emoArr[6]+=face['faceAttributes']['emotion']['sadness'];\n",
    "                emoArr[7]+=face['faceAttributes']['emotion']['surprise'];\n",
    "        #print(\"faces!!!\",face['faceAttributes']['emotion']['anger']) # 터미널 창에 속성값들을 출력\n",
    "    \n",
    "        print(\"Max !!\",emoName[emoArr.index(max(emoArr))])\n",
    "        i+=1\n",
    "    \n",
    "    #print(\"faces!!!\",faces)\n",
    "    #webCamera라는 이름으로 실시간 화면을 보여준다.\n",
    "    \n",
    "    cv2.imshow('webCamera',frame)\n",
    "    # q를 누르면 종료되도록 하는 코드이다.\n",
    "    if cv2.waitKey(1) == ord('q'):\n",
    "        break\n",
    "        \n",
    "# 메모리를 해제시켜준다.\n",
    "cap.release()\n",
    "cv2.destroyAllWindows()"
   ]
  }
 ],
 "metadata": {
  "kernelspec": {
   "display_name": "Python 3",
   "language": "python",
   "name": "python3"
  },
  "language_info": {
   "codemirror_mode": {
    "name": "ipython",
    "version": 3
   },
   "file_extension": ".py",
   "mimetype": "text/x-python",
   "name": "python",
   "nbconvert_exporter": "python",
   "pygments_lexer": "ipython3",
   "version": "3.7.6"
  }
 },
 "nbformat": 4,
 "nbformat_minor": 4
}
